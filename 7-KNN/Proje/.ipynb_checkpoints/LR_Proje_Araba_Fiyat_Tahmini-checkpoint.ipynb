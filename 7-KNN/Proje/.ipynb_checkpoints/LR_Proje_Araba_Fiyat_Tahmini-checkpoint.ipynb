{
 "cells": [
  {
   "cell_type": "markdown",
   "id": "artificial-belly",
   "metadata": {},
   "source": [
    "# Çoklu Lineer Regresyon Proje"
   ]
  },
  {
   "cell_type": "markdown",
   "id": "appropriate-requirement",
   "metadata": {},
   "source": [
    "## Araba Fiyat Tahmini"
   ]
  },
  {
   "cell_type": "markdown",
   "id": "mighty-staff",
   "metadata": {},
   "source": [
    "### Problem Tanımı:"
   ]
  },
  {
   "cell_type": "markdown",
   "id": "spread-alignment",
   "metadata": {},
   "source": [
    "1980'lerde Uzakdoğu'dan bir araba üreticisi, Amerika pazarına girmek istemektedir.\n",
    "\n",
    "Araba fiyatları üzerinde hangi faktörlerin önemli olduğunu öğrenmek için bir danışmanlık firması ile anlaşırlar.\n",
    "\n",
    "Öğrenmek istedikleri:\n",
    "* Arabaların fiyatlarını belirlemede hangi değişken/değişkenler önemlidir\n",
    "* Bu değişkenler, araba fiyatlarını ne ölçüde etkilemektedir.\n",
    "\n",
    "Bu talepler doğrultusunda, danışmanlık firması çeşitli markalar ve modeller üzerinden veriler toplamıştır.\n",
    "\n",
    "Bizim görevimiz fiyatın hangi değişkenlere göre ve ne ölçüde değiştiğini gösteren bir model hazırlamak ve sunmaktır."
   ]
  },
  {
   "cell_type": "markdown",
   "id": "stylish-fusion",
   "metadata": {},
   "source": [
    "https://archive.ics.uci.edu/ml/datasets/Automobile"
   ]
  },
  {
   "cell_type": "markdown",
   "id": "gothic-vienna",
   "metadata": {},
   "source": [
    "#### Kütüphaneleri import edelim"
   ]
  },
  {
   "cell_type": "code",
   "execution_count": 1,
   "id": "accurate-yellow",
   "metadata": {},
   "outputs": [],
   "source": [
    "import numpy as np\n",
    "import pandas as pd\n",
    "import seaborn as sns\n",
    "import matplotlib.pyplot as plt\n",
    "%matplotlib inline"
   ]
  },
  {
   "cell_type": "code",
   "execution_count": 2,
   "id": "sudden-microwave",
   "metadata": {},
   "outputs": [],
   "source": [
    "# warning mesajları için\n",
    "import warnings\n",
    "warnings.simplefilter(action='ignore', category=Warning)"
   ]
  },
  {
   "cell_type": "markdown",
   "id": "leading-attention",
   "metadata": {},
   "source": [
    "#### Veriyi Anlayalım"
   ]
  },
  {
   "cell_type": "code",
   "execution_count": 3,
   "id": "grateful-assault",
   "metadata": {},
   "outputs": [
    {
     "ename": "FileNotFoundError",
     "evalue": "[Errno 2] No such file or directory: 'data/Automobile.csv'",
     "output_type": "error",
     "traceback": [
      "\u001b[1;31m---------------------------------------------------------------------------\u001b[0m",
      "\u001b[1;31mFileNotFoundError\u001b[0m                         Traceback (most recent call last)",
      "Cell \u001b[1;32mIn[3], line 1\u001b[0m\n\u001b[1;32m----> 1\u001b[0m df \u001b[38;5;241m=\u001b[39m \u001b[43mpd\u001b[49m\u001b[38;5;241;43m.\u001b[39;49m\u001b[43mread_csv\u001b[49m\u001b[43m(\u001b[49m\u001b[38;5;124;43m'\u001b[39;49m\u001b[38;5;124;43mdata/Automobile.csv\u001b[39;49m\u001b[38;5;124;43m'\u001b[39;49m\u001b[43m)\u001b[49m\n",
      "File \u001b[1;32m~\\anaconda3\\lib\\site-packages\\pandas\\util\\_decorators.py:211\u001b[0m, in \u001b[0;36mdeprecate_kwarg.<locals>._deprecate_kwarg.<locals>.wrapper\u001b[1;34m(*args, **kwargs)\u001b[0m\n\u001b[0;32m    209\u001b[0m     \u001b[38;5;28;01melse\u001b[39;00m:\n\u001b[0;32m    210\u001b[0m         kwargs[new_arg_name] \u001b[38;5;241m=\u001b[39m new_arg_value\n\u001b[1;32m--> 211\u001b[0m \u001b[38;5;28;01mreturn\u001b[39;00m func(\u001b[38;5;241m*\u001b[39margs, \u001b[38;5;241m*\u001b[39m\u001b[38;5;241m*\u001b[39mkwargs)\n",
      "File \u001b[1;32m~\\anaconda3\\lib\\site-packages\\pandas\\util\\_decorators.py:331\u001b[0m, in \u001b[0;36mdeprecate_nonkeyword_arguments.<locals>.decorate.<locals>.wrapper\u001b[1;34m(*args, **kwargs)\u001b[0m\n\u001b[0;32m    325\u001b[0m \u001b[38;5;28;01mif\u001b[39;00m \u001b[38;5;28mlen\u001b[39m(args) \u001b[38;5;241m>\u001b[39m num_allow_args:\n\u001b[0;32m    326\u001b[0m     warnings\u001b[38;5;241m.\u001b[39mwarn(\n\u001b[0;32m    327\u001b[0m         msg\u001b[38;5;241m.\u001b[39mformat(arguments\u001b[38;5;241m=\u001b[39m_format_argument_list(allow_args)),\n\u001b[0;32m    328\u001b[0m         \u001b[38;5;167;01mFutureWarning\u001b[39;00m,\n\u001b[0;32m    329\u001b[0m         stacklevel\u001b[38;5;241m=\u001b[39mfind_stack_level(),\n\u001b[0;32m    330\u001b[0m     )\n\u001b[1;32m--> 331\u001b[0m \u001b[38;5;28;01mreturn\u001b[39;00m func(\u001b[38;5;241m*\u001b[39margs, \u001b[38;5;241m*\u001b[39m\u001b[38;5;241m*\u001b[39mkwargs)\n",
      "File \u001b[1;32m~\\anaconda3\\lib\\site-packages\\pandas\\io\\parsers\\readers.py:950\u001b[0m, in \u001b[0;36mread_csv\u001b[1;34m(filepath_or_buffer, sep, delimiter, header, names, index_col, usecols, squeeze, prefix, mangle_dupe_cols, dtype, engine, converters, true_values, false_values, skipinitialspace, skiprows, skipfooter, nrows, na_values, keep_default_na, na_filter, verbose, skip_blank_lines, parse_dates, infer_datetime_format, keep_date_col, date_parser, dayfirst, cache_dates, iterator, chunksize, compression, thousands, decimal, lineterminator, quotechar, quoting, doublequote, escapechar, comment, encoding, encoding_errors, dialect, error_bad_lines, warn_bad_lines, on_bad_lines, delim_whitespace, low_memory, memory_map, float_precision, storage_options)\u001b[0m\n\u001b[0;32m    935\u001b[0m kwds_defaults \u001b[38;5;241m=\u001b[39m _refine_defaults_read(\n\u001b[0;32m    936\u001b[0m     dialect,\n\u001b[0;32m    937\u001b[0m     delimiter,\n\u001b[1;32m   (...)\u001b[0m\n\u001b[0;32m    946\u001b[0m     defaults\u001b[38;5;241m=\u001b[39m{\u001b[38;5;124m\"\u001b[39m\u001b[38;5;124mdelimiter\u001b[39m\u001b[38;5;124m\"\u001b[39m: \u001b[38;5;124m\"\u001b[39m\u001b[38;5;124m,\u001b[39m\u001b[38;5;124m\"\u001b[39m},\n\u001b[0;32m    947\u001b[0m )\n\u001b[0;32m    948\u001b[0m kwds\u001b[38;5;241m.\u001b[39mupdate(kwds_defaults)\n\u001b[1;32m--> 950\u001b[0m \u001b[38;5;28;01mreturn\u001b[39;00m \u001b[43m_read\u001b[49m\u001b[43m(\u001b[49m\u001b[43mfilepath_or_buffer\u001b[49m\u001b[43m,\u001b[49m\u001b[43m \u001b[49m\u001b[43mkwds\u001b[49m\u001b[43m)\u001b[49m\n",
      "File \u001b[1;32m~\\anaconda3\\lib\\site-packages\\pandas\\io\\parsers\\readers.py:605\u001b[0m, in \u001b[0;36m_read\u001b[1;34m(filepath_or_buffer, kwds)\u001b[0m\n\u001b[0;32m    602\u001b[0m _validate_names(kwds\u001b[38;5;241m.\u001b[39mget(\u001b[38;5;124m\"\u001b[39m\u001b[38;5;124mnames\u001b[39m\u001b[38;5;124m\"\u001b[39m, \u001b[38;5;28;01mNone\u001b[39;00m))\n\u001b[0;32m    604\u001b[0m \u001b[38;5;66;03m# Create the parser.\u001b[39;00m\n\u001b[1;32m--> 605\u001b[0m parser \u001b[38;5;241m=\u001b[39m TextFileReader(filepath_or_buffer, \u001b[38;5;241m*\u001b[39m\u001b[38;5;241m*\u001b[39mkwds)\n\u001b[0;32m    607\u001b[0m \u001b[38;5;28;01mif\u001b[39;00m chunksize \u001b[38;5;129;01mor\u001b[39;00m iterator:\n\u001b[0;32m    608\u001b[0m     \u001b[38;5;28;01mreturn\u001b[39;00m parser\n",
      "File \u001b[1;32m~\\anaconda3\\lib\\site-packages\\pandas\\io\\parsers\\readers.py:1442\u001b[0m, in \u001b[0;36mTextFileReader.__init__\u001b[1;34m(self, f, engine, **kwds)\u001b[0m\n\u001b[0;32m   1439\u001b[0m     \u001b[38;5;28mself\u001b[39m\u001b[38;5;241m.\u001b[39moptions[\u001b[38;5;124m\"\u001b[39m\u001b[38;5;124mhas_index_names\u001b[39m\u001b[38;5;124m\"\u001b[39m] \u001b[38;5;241m=\u001b[39m kwds[\u001b[38;5;124m\"\u001b[39m\u001b[38;5;124mhas_index_names\u001b[39m\u001b[38;5;124m\"\u001b[39m]\n\u001b[0;32m   1441\u001b[0m \u001b[38;5;28mself\u001b[39m\u001b[38;5;241m.\u001b[39mhandles: IOHandles \u001b[38;5;241m|\u001b[39m \u001b[38;5;28;01mNone\u001b[39;00m \u001b[38;5;241m=\u001b[39m \u001b[38;5;28;01mNone\u001b[39;00m\n\u001b[1;32m-> 1442\u001b[0m \u001b[38;5;28mself\u001b[39m\u001b[38;5;241m.\u001b[39m_engine \u001b[38;5;241m=\u001b[39m \u001b[38;5;28;43mself\u001b[39;49m\u001b[38;5;241;43m.\u001b[39;49m\u001b[43m_make_engine\u001b[49m\u001b[43m(\u001b[49m\u001b[43mf\u001b[49m\u001b[43m,\u001b[49m\u001b[43m \u001b[49m\u001b[38;5;28;43mself\u001b[39;49m\u001b[38;5;241;43m.\u001b[39;49m\u001b[43mengine\u001b[49m\u001b[43m)\u001b[49m\n",
      "File \u001b[1;32m~\\anaconda3\\lib\\site-packages\\pandas\\io\\parsers\\readers.py:1735\u001b[0m, in \u001b[0;36mTextFileReader._make_engine\u001b[1;34m(self, f, engine)\u001b[0m\n\u001b[0;32m   1733\u001b[0m     \u001b[38;5;28;01mif\u001b[39;00m \u001b[38;5;124m\"\u001b[39m\u001b[38;5;124mb\u001b[39m\u001b[38;5;124m\"\u001b[39m \u001b[38;5;129;01mnot\u001b[39;00m \u001b[38;5;129;01min\u001b[39;00m mode:\n\u001b[0;32m   1734\u001b[0m         mode \u001b[38;5;241m+\u001b[39m\u001b[38;5;241m=\u001b[39m \u001b[38;5;124m\"\u001b[39m\u001b[38;5;124mb\u001b[39m\u001b[38;5;124m\"\u001b[39m\n\u001b[1;32m-> 1735\u001b[0m \u001b[38;5;28mself\u001b[39m\u001b[38;5;241m.\u001b[39mhandles \u001b[38;5;241m=\u001b[39m \u001b[43mget_handle\u001b[49m\u001b[43m(\u001b[49m\n\u001b[0;32m   1736\u001b[0m \u001b[43m    \u001b[49m\u001b[43mf\u001b[49m\u001b[43m,\u001b[49m\n\u001b[0;32m   1737\u001b[0m \u001b[43m    \u001b[49m\u001b[43mmode\u001b[49m\u001b[43m,\u001b[49m\n\u001b[0;32m   1738\u001b[0m \u001b[43m    \u001b[49m\u001b[43mencoding\u001b[49m\u001b[38;5;241;43m=\u001b[39;49m\u001b[38;5;28;43mself\u001b[39;49m\u001b[38;5;241;43m.\u001b[39;49m\u001b[43moptions\u001b[49m\u001b[38;5;241;43m.\u001b[39;49m\u001b[43mget\u001b[49m\u001b[43m(\u001b[49m\u001b[38;5;124;43m\"\u001b[39;49m\u001b[38;5;124;43mencoding\u001b[39;49m\u001b[38;5;124;43m\"\u001b[39;49m\u001b[43m,\u001b[49m\u001b[43m \u001b[49m\u001b[38;5;28;43;01mNone\u001b[39;49;00m\u001b[43m)\u001b[49m\u001b[43m,\u001b[49m\n\u001b[0;32m   1739\u001b[0m \u001b[43m    \u001b[49m\u001b[43mcompression\u001b[49m\u001b[38;5;241;43m=\u001b[39;49m\u001b[38;5;28;43mself\u001b[39;49m\u001b[38;5;241;43m.\u001b[39;49m\u001b[43moptions\u001b[49m\u001b[38;5;241;43m.\u001b[39;49m\u001b[43mget\u001b[49m\u001b[43m(\u001b[49m\u001b[38;5;124;43m\"\u001b[39;49m\u001b[38;5;124;43mcompression\u001b[39;49m\u001b[38;5;124;43m\"\u001b[39;49m\u001b[43m,\u001b[49m\u001b[43m \u001b[49m\u001b[38;5;28;43;01mNone\u001b[39;49;00m\u001b[43m)\u001b[49m\u001b[43m,\u001b[49m\n\u001b[0;32m   1740\u001b[0m \u001b[43m    \u001b[49m\u001b[43mmemory_map\u001b[49m\u001b[38;5;241;43m=\u001b[39;49m\u001b[38;5;28;43mself\u001b[39;49m\u001b[38;5;241;43m.\u001b[39;49m\u001b[43moptions\u001b[49m\u001b[38;5;241;43m.\u001b[39;49m\u001b[43mget\u001b[49m\u001b[43m(\u001b[49m\u001b[38;5;124;43m\"\u001b[39;49m\u001b[38;5;124;43mmemory_map\u001b[39;49m\u001b[38;5;124;43m\"\u001b[39;49m\u001b[43m,\u001b[49m\u001b[43m \u001b[49m\u001b[38;5;28;43;01mFalse\u001b[39;49;00m\u001b[43m)\u001b[49m\u001b[43m,\u001b[49m\n\u001b[0;32m   1741\u001b[0m \u001b[43m    \u001b[49m\u001b[43mis_text\u001b[49m\u001b[38;5;241;43m=\u001b[39;49m\u001b[43mis_text\u001b[49m\u001b[43m,\u001b[49m\n\u001b[0;32m   1742\u001b[0m \u001b[43m    \u001b[49m\u001b[43merrors\u001b[49m\u001b[38;5;241;43m=\u001b[39;49m\u001b[38;5;28;43mself\u001b[39;49m\u001b[38;5;241;43m.\u001b[39;49m\u001b[43moptions\u001b[49m\u001b[38;5;241;43m.\u001b[39;49m\u001b[43mget\u001b[49m\u001b[43m(\u001b[49m\u001b[38;5;124;43m\"\u001b[39;49m\u001b[38;5;124;43mencoding_errors\u001b[39;49m\u001b[38;5;124;43m\"\u001b[39;49m\u001b[43m,\u001b[49m\u001b[43m \u001b[49m\u001b[38;5;124;43m\"\u001b[39;49m\u001b[38;5;124;43mstrict\u001b[39;49m\u001b[38;5;124;43m\"\u001b[39;49m\u001b[43m)\u001b[49m\u001b[43m,\u001b[49m\n\u001b[0;32m   1743\u001b[0m \u001b[43m    \u001b[49m\u001b[43mstorage_options\u001b[49m\u001b[38;5;241;43m=\u001b[39;49m\u001b[38;5;28;43mself\u001b[39;49m\u001b[38;5;241;43m.\u001b[39;49m\u001b[43moptions\u001b[49m\u001b[38;5;241;43m.\u001b[39;49m\u001b[43mget\u001b[49m\u001b[43m(\u001b[49m\u001b[38;5;124;43m\"\u001b[39;49m\u001b[38;5;124;43mstorage_options\u001b[39;49m\u001b[38;5;124;43m\"\u001b[39;49m\u001b[43m,\u001b[49m\u001b[43m \u001b[49m\u001b[38;5;28;43;01mNone\u001b[39;49;00m\u001b[43m)\u001b[49m\u001b[43m,\u001b[49m\n\u001b[0;32m   1744\u001b[0m \u001b[43m\u001b[49m\u001b[43m)\u001b[49m\n\u001b[0;32m   1745\u001b[0m \u001b[38;5;28;01massert\u001b[39;00m \u001b[38;5;28mself\u001b[39m\u001b[38;5;241m.\u001b[39mhandles \u001b[38;5;129;01mis\u001b[39;00m \u001b[38;5;129;01mnot\u001b[39;00m \u001b[38;5;28;01mNone\u001b[39;00m\n\u001b[0;32m   1746\u001b[0m f \u001b[38;5;241m=\u001b[39m \u001b[38;5;28mself\u001b[39m\u001b[38;5;241m.\u001b[39mhandles\u001b[38;5;241m.\u001b[39mhandle\n",
      "File \u001b[1;32m~\\anaconda3\\lib\\site-packages\\pandas\\io\\common.py:856\u001b[0m, in \u001b[0;36mget_handle\u001b[1;34m(path_or_buf, mode, encoding, compression, memory_map, is_text, errors, storage_options)\u001b[0m\n\u001b[0;32m    851\u001b[0m \u001b[38;5;28;01melif\u001b[39;00m \u001b[38;5;28misinstance\u001b[39m(handle, \u001b[38;5;28mstr\u001b[39m):\n\u001b[0;32m    852\u001b[0m     \u001b[38;5;66;03m# Check whether the filename is to be opened in binary mode.\u001b[39;00m\n\u001b[0;32m    853\u001b[0m     \u001b[38;5;66;03m# Binary mode does not support 'encoding' and 'newline'.\u001b[39;00m\n\u001b[0;32m    854\u001b[0m     \u001b[38;5;28;01mif\u001b[39;00m ioargs\u001b[38;5;241m.\u001b[39mencoding \u001b[38;5;129;01mand\u001b[39;00m \u001b[38;5;124m\"\u001b[39m\u001b[38;5;124mb\u001b[39m\u001b[38;5;124m\"\u001b[39m \u001b[38;5;129;01mnot\u001b[39;00m \u001b[38;5;129;01min\u001b[39;00m ioargs\u001b[38;5;241m.\u001b[39mmode:\n\u001b[0;32m    855\u001b[0m         \u001b[38;5;66;03m# Encoding\u001b[39;00m\n\u001b[1;32m--> 856\u001b[0m         handle \u001b[38;5;241m=\u001b[39m \u001b[38;5;28;43mopen\u001b[39;49m\u001b[43m(\u001b[49m\n\u001b[0;32m    857\u001b[0m \u001b[43m            \u001b[49m\u001b[43mhandle\u001b[49m\u001b[43m,\u001b[49m\n\u001b[0;32m    858\u001b[0m \u001b[43m            \u001b[49m\u001b[43mioargs\u001b[49m\u001b[38;5;241;43m.\u001b[39;49m\u001b[43mmode\u001b[49m\u001b[43m,\u001b[49m\n\u001b[0;32m    859\u001b[0m \u001b[43m            \u001b[49m\u001b[43mencoding\u001b[49m\u001b[38;5;241;43m=\u001b[39;49m\u001b[43mioargs\u001b[49m\u001b[38;5;241;43m.\u001b[39;49m\u001b[43mencoding\u001b[49m\u001b[43m,\u001b[49m\n\u001b[0;32m    860\u001b[0m \u001b[43m            \u001b[49m\u001b[43merrors\u001b[49m\u001b[38;5;241;43m=\u001b[39;49m\u001b[43merrors\u001b[49m\u001b[43m,\u001b[49m\n\u001b[0;32m    861\u001b[0m \u001b[43m            \u001b[49m\u001b[43mnewline\u001b[49m\u001b[38;5;241;43m=\u001b[39;49m\u001b[38;5;124;43m\"\u001b[39;49m\u001b[38;5;124;43m\"\u001b[39;49m\u001b[43m,\u001b[49m\n\u001b[0;32m    862\u001b[0m \u001b[43m        \u001b[49m\u001b[43m)\u001b[49m\n\u001b[0;32m    863\u001b[0m     \u001b[38;5;28;01melse\u001b[39;00m:\n\u001b[0;32m    864\u001b[0m         \u001b[38;5;66;03m# Binary mode\u001b[39;00m\n\u001b[0;32m    865\u001b[0m         handle \u001b[38;5;241m=\u001b[39m \u001b[38;5;28mopen\u001b[39m(handle, ioargs\u001b[38;5;241m.\u001b[39mmode)\n",
      "\u001b[1;31mFileNotFoundError\u001b[0m: [Errno 2] No such file or directory: 'data/Automobile.csv'"
     ]
    }
   ],
   "source": [
    "df = pd.read_csv('data/Automobile.csv')"
   ]
  },
  {
   "cell_type": "code",
   "execution_count": null,
   "id": "preceding-commander",
   "metadata": {},
   "outputs": [],
   "source": [
    "df.head()"
   ]
  },
  {
   "cell_type": "code",
   "execution_count": null,
   "id": "outdoor-dressing",
   "metadata": {},
   "outputs": [],
   "source": [
    "# genel bilgiler\n",
    "\n",
    "df.info()"
   ]
  },
  {
   "cell_type": "code",
   "execution_count": null,
   "id": "black-noise",
   "metadata": {},
   "outputs": [],
   "source": [
    "# numerik kolonlara ait istatistik\n",
    "\n",
    "df.describe()"
   ]
  },
  {
   "cell_type": "code",
   "execution_count": null,
   "id": "desirable-emergency",
   "metadata": {},
   "outputs": [],
   "source": [
    "# verinin şekli (satır, sütun)\n",
    "\n",
    "df.shape"
   ]
  },
  {
   "cell_type": "code",
   "execution_count": null,
   "id": "aboriginal-maine",
   "metadata": {},
   "outputs": [],
   "source": [
    "# toplam gözlem sayısı (n)\n",
    "\n",
    "len(df)"
   ]
  },
  {
   "cell_type": "code",
   "execution_count": null,
   "id": "tutorial-scene",
   "metadata": {},
   "outputs": [],
   "source": [
    "# sütunlar\n",
    "\n",
    "df.columns"
   ]
  },
  {
   "cell_type": "code",
   "execution_count": null,
   "id": "nervous-compensation",
   "metadata": {},
   "outputs": [],
   "source": [
    "# toplam sütun sayısı\n",
    "\n",
    "len(df.columns)"
   ]
  },
  {
   "cell_type": "code",
   "execution_count": null,
   "id": "acceptable-cologne",
   "metadata": {},
   "outputs": [],
   "source": [
    "# kaç adet numerik sütun var\n",
    "# price (y) da numerik bir sütun\n",
    "\n",
    "len(df.describe().columns)"
   ]
  },
  {
   "cell_type": "markdown",
   "id": "arctic-married",
   "metadata": {},
   "source": [
    "Dolayısı ile data içinde:\n",
    "* Toplam 26 sütun var\n",
    "* Bunlardan 25'i girdi (input) sütunları, 1'i çıktı (y) sütunu\n",
    "* Girdi sütunlarının 15'i sayısal sütun, 10'u kategorik"
   ]
  },
  {
   "cell_type": "code",
   "execution_count": null,
   "id": "damaged-blogger",
   "metadata": {},
   "outputs": [],
   "source": [
    "df.describe().columns"
   ]
  },
  {
   "cell_type": "markdown",
   "id": "oriented-clear",
   "metadata": {},
   "source": [
    "#### Veri Ön İşleme"
   ]
  },
  {
   "cell_type": "code",
   "execution_count": null,
   "id": "thousand-international",
   "metadata": {},
   "outputs": [],
   "source": [
    "# her sütun içindeki tekil (unique) veri adedini görelim\n",
    "\n",
    "for col in df.columns:\n",
    "    print(col, df[col].nunique())"
   ]
  },
  {
   "cell_type": "code",
   "execution_count": null,
   "id": "continent-problem",
   "metadata": {},
   "outputs": [],
   "source": [
    "# Kategorik olan sütunlar için değerleri görelim\n",
    "\n",
    "for col in df.columns:\n",
    "    values = []\n",
    "    \n",
    "    # numerik olmayanlar -> kategorik\n",
    "    if col not in df.describe().columns:\n",
    "        for val in df[col].unique():\n",
    "            values.append(val)\n",
    "        \n",
    "        print(\"{0} -> {1}\".format(col, values))\n",
    "        "
   ]
  },
  {
   "cell_type": "code",
   "execution_count": null,
   "id": "found-aquarium",
   "metadata": {},
   "outputs": [],
   "source": [
    "# Model adlarını görelim\n",
    "# data['CarName']\n",
    "\n",
    "df.CarName"
   ]
  },
  {
   "cell_type": "markdown",
   "id": "foster-berlin",
   "metadata": {},
   "source": [
    "Gördüğünüz gibi model adları çok karmaşık. İlk kelimeler üretici adı, diğerleri model adı.\n",
    "\n",
    "Üretici Adı - Model Adı şeklinde ayırıp Üretici Adlarını alalım."
   ]
  },
  {
   "cell_type": "code",
   "execution_count": null,
   "id": "second-backing",
   "metadata": {},
   "outputs": [],
   "source": [
    "manufacturer = df['CarName'].apply(lambda x: x.split(' '))\n",
    "manufacturer"
   ]
  },
  {
   "cell_type": "code",
   "execution_count": null,
   "id": "modified-southwest",
   "metadata": {},
   "outputs": [],
   "source": [
    "manufacturer = df['CarName'].apply(lambda x: x.split(' ')[0])\n",
    "manufacturer"
   ]
  },
  {
   "cell_type": "code",
   "execution_count": null,
   "id": "fixed-diagnosis",
   "metadata": {},
   "outputs": [],
   "source": [
    "# şimdi df'i kopyalayıp üzerinde değişiklik yapmaya başlayalım\n",
    "\n",
    "data = df.copy()"
   ]
  },
  {
   "cell_type": "code",
   "execution_count": null,
   "id": "sustained-denver",
   "metadata": {},
   "outputs": [],
   "source": [
    "data.head()"
   ]
  },
  {
   "cell_type": "code",
   "execution_count": null,
   "id": "incorrect-moscow",
   "metadata": {},
   "outputs": [],
   "source": [
    "# bu CarName sütununu data'dan çıkaralım\n",
    "\n",
    "data.drop(columns=['CarName'], axis=1, inplace=True)"
   ]
  },
  {
   "cell_type": "code",
   "execution_count": null,
   "id": "chicken-cleaning",
   "metadata": {},
   "outputs": [],
   "source": [
    "data.head()"
   ]
  },
  {
   "cell_type": "code",
   "execution_count": null,
   "id": "complex-fifth",
   "metadata": {},
   "outputs": [],
   "source": [
    "# şimdi bu yeni manufacturer sütununu ekleyelim\n",
    "\n",
    "data.insert(3, 'manufacturer', manufacturer)"
   ]
  },
  {
   "cell_type": "code",
   "execution_count": null,
   "id": "every-generation",
   "metadata": {},
   "outputs": [],
   "source": [
    "data.head()"
   ]
  },
  {
   "cell_type": "code",
   "execution_count": null,
   "id": "viral-college",
   "metadata": {},
   "outputs": [],
   "source": [
    "# hangi üreticinin kaç adet aracı var görelim\n",
    "\n",
    "data.groupby(by='manufacturer').count()"
   ]
  },
  {
   "cell_type": "markdown",
   "id": "needed-integer",
   "metadata": {},
   "source": [
    "Üretici adlarında hatalar var\n",
    "* toyota, toyouta\n",
    "* mazda, maxda\n",
    "* Nissan, nissan\n",
    "* ...\n",
    "\n",
    "Bunları düzeltelim:"
   ]
  },
  {
   "cell_type": "code",
   "execution_count": null,
   "id": "excellent-triple",
   "metadata": {},
   "outputs": [],
   "source": [
    "# önce tüm değerleri görelim\n",
    "\n",
    "data.manufacturer.unique()"
   ]
  },
  {
   "cell_type": "code",
   "execution_count": null,
   "id": "major-vietnamese",
   "metadata": {},
   "outputs": [],
   "source": [
    "# büyük - küçük harfleri düzeltelim\n",
    "\n",
    "data.manufacturer = data.manufacturer.str.lower()"
   ]
  },
  {
   "cell_type": "code",
   "execution_count": null,
   "id": "active-blackberry",
   "metadata": {},
   "outputs": [],
   "source": [
    "data.manufacturer.unique()"
   ]
  },
  {
   "cell_type": "code",
   "execution_count": null,
   "id": "lovely-eight",
   "metadata": {},
   "outputs": [],
   "source": [
    "# hatalı marka adlarını düzeltelim\n",
    "\n",
    "data.replace({\n",
    "    'maxda': 'mazda',\n",
    "    'porcshce': 'porsche',\n",
    "    'toyouta': 'toyota',\n",
    "    'vokswagen': 'vw',\n",
    "    'volkswagen': 'vw'\n",
    "}, inplace=True)"
   ]
  },
  {
   "cell_type": "code",
   "execution_count": null,
   "id": "muslim-remove",
   "metadata": {},
   "outputs": [],
   "source": [
    "data.manufacturer.unique()"
   ]
  },
  {
   "cell_type": "code",
   "execution_count": null,
   "id": "endangered-deviation",
   "metadata": {},
   "outputs": [],
   "source": [
    "data.head()"
   ]
  },
  {
   "cell_type": "markdown",
   "id": "appreciated-answer",
   "metadata": {},
   "source": [
    "#### Tekli (Univariate) Analiz"
   ]
  },
  {
   "cell_type": "markdown",
   "id": "technological-concentrate",
   "metadata": {},
   "source": [
    "Değişkenlere tek tek kendi içlerinde bakıp nasıl göründüğünü inceleyelim:"
   ]
  },
  {
   "cell_type": "code",
   "execution_count": null,
   "id": "scheduled-technology",
   "metadata": {},
   "outputs": [],
   "source": [
    "# symboling -> sigorta riski\n",
    "\n",
    "sns.countplot(data.symboling)\n",
    "plt.show()"
   ]
  },
  {
   "cell_type": "code",
   "execution_count": null,
   "id": "functional-gentleman",
   "metadata": {},
   "outputs": [],
   "source": [
    "\n",
    "fig = plt.figure(figsize=(20,12))\n",
    "\n",
    "plt.subplot(2,3,1)\n",
    "plt.title('Fueltype')\n",
    "sns.countplot(data.fueltype)\n",
    "# benzinli (gas) arabalar çoğunlukta\n",
    "\n",
    "\n",
    "plt.subplot(2,3,2)\n",
    "plt.title('Fuelsystem')\n",
    "sns.countplot(data.fuelsystem)\n",
    "# mpfi (multi point fuel injection) en çok tercih edilen, yeni teknoloji\n",
    "\n",
    "\n",
    "plt.subplot(2,3,3)\n",
    "plt.title('Aspiration')\n",
    "sns.countplot(data.aspiration)\n",
    "# çoğunluk standart beslemeli\n",
    "\n",
    "\n",
    "plt.subplot(2,3,4)\n",
    "plt.title('Door Number')\n",
    "sns.countplot(data.doornumber)\n",
    "# çoğunluk 4 kapılı\n",
    "\n",
    "\n",
    "plt.subplot(2,3,5)\n",
    "plt.title('Car Body')\n",
    "sns.countplot(data.carbody)\n",
    "# çoğunluk sedan\n",
    "\n",
    "\n",
    "plt.subplot(2,3,6)\n",
    "plt.title('Drive Wheel')\n",
    "sns.countplot(data.drivewheel)\n",
    "# çekiş sistemi, standart çeker çoğunlukta\n",
    "\n",
    "plt.show()"
   ]
  },
  {
   "cell_type": "markdown",
   "id": "registered-removal",
   "metadata": {},
   "source": [
    "#### İkili (Bivariate) Analiz"
   ]
  },
  {
   "cell_type": "markdown",
   "id": "velvet-recipient",
   "metadata": {},
   "source": [
    "Şimdi değişkenlerin Fiyat'ı nasıl etkilediğini görmeye çalışalım:"
   ]
  },
  {
   "cell_type": "code",
   "execution_count": null,
   "id": "yellow-respondent",
   "metadata": {},
   "outputs": [],
   "source": [
    "data.head()"
   ]
  },
  {
   "cell_type": "code",
   "execution_count": null,
   "id": "martial-vinyl",
   "metadata": {},
   "outputs": [],
   "source": [
    "# Üretici bazlı ortalama fiyatlar\n",
    "\n",
    "plt.figure(figsize=(16,8))\n",
    "plt.title('Üretici Fiyatları', fontsize=16)\n",
    "sns.barplot(x=data.manufacturer, y=data.price, \n",
    "            hue=data.fueltype, palette='Set2')\n",
    "plt.xticks(rotation=90)\n",
    "plt.tight_layout()"
   ]
  },
  {
   "cell_type": "markdown",
   "id": "interested-potential",
   "metadata": {},
   "source": [
    "**symboling:**"
   ]
  },
  {
   "cell_type": "code",
   "execution_count": null,
   "id": "developing-transportation",
   "metadata": {},
   "outputs": [],
   "source": [
    "plt.figure(figsize=(8,6))\n",
    "sns.boxplot(x=data.symboling, y=data.price)\n",
    "plt.show()"
   ]
  },
  {
   "cell_type": "markdown",
   "id": "compound-announcement",
   "metadata": {},
   "source": [
    "**fueltype:**"
   ]
  },
  {
   "cell_type": "code",
   "execution_count": null,
   "id": "adapted-situation",
   "metadata": {},
   "outputs": [],
   "source": [
    "plt.figure(figsize=(8,6))\n",
    "sns.boxplot(x=data.fueltype, y=data.price)\n",
    "plt.show()"
   ]
  },
  {
   "cell_type": "markdown",
   "id": "formal-volleyball",
   "metadata": {},
   "source": [
    "**enginelocation:**"
   ]
  },
  {
   "cell_type": "code",
   "execution_count": null,
   "id": "vocal-value",
   "metadata": {},
   "outputs": [],
   "source": [
    "plt.title('Engine Location')\n",
    "sns.countplot(data.enginelocation)\n",
    "sns.boxplot(x=data.enginelocation, y=data.price)\n",
    "plt.show()\n",
    "\n",
    "# çoğunlukla motoru önde olan arabalar var ve fiyatları daha düşük\n",
    "# motor arkada ise fiyat çok yüksek oluyor\n"
   ]
  },
  {
   "cell_type": "markdown",
   "id": "prospective-philadelphia",
   "metadata": {},
   "source": [
    "**cylindernumber:**"
   ]
  },
  {
   "cell_type": "code",
   "execution_count": null,
   "id": "invisible-texture",
   "metadata": {},
   "outputs": [],
   "source": [
    "plt.title('Cylinder Number')\n",
    "sns.countplot(data.cylindernumber)\n",
    "sns.boxplot(x=data.cylindernumber, y=data.price)\n",
    "plt.show()\n",
    "\n",
    "# silindir sayısı arttıkça fiyatın görece arttığını söyleyebiliriz\n",
    "# bakalım ne kadar dörğru çıkacak\n"
   ]
  },
  {
   "cell_type": "markdown",
   "id": "humanitarian-fiction",
   "metadata": {},
   "source": [
    "**Fiyatın Kendi İçinde Dağılımı:**"
   ]
  },
  {
   "cell_type": "markdown",
   "id": "identical-concept",
   "metadata": {},
   "source": [
    "Şimdi sadece fiyatın nasıl kümelendiğine bakalım:"
   ]
  },
  {
   "cell_type": "code",
   "execution_count": null,
   "id": "overhead-wells",
   "metadata": {},
   "outputs": [],
   "source": [
    "sns.distplot(data.price)\n",
    "plt.show()\n",
    "\n",
    "# fiyatın genelde 5.000 ile 20.000 USD arasında dağıldığı görülüyor\n"
   ]
  },
  {
   "cell_type": "code",
   "execution_count": null,
   "id": "catholic-compiler",
   "metadata": {},
   "outputs": [],
   "source": [
    "\n",
    "plt.title('Fiyat Dağılımı')\n",
    "sns.boxplot(y=data.price)\n",
    "plt.show()\n",
    "\n",
    "# buradan da çok net bir şekilde dağılımın aralığı görülüyor\n"
   ]
  },
  {
   "cell_type": "code",
   "execution_count": null,
   "id": "agreed-highway",
   "metadata": {},
   "outputs": [],
   "source": [
    "# fiyata istatistik veriler üzerinden bakalım\n",
    "\n",
    "data.price.describe()"
   ]
  },
  {
   "cell_type": "markdown",
   "id": "italic-platinum",
   "metadata": {},
   "source": [
    "Şimdi ikili grafiklerle (pair-plot) olarak tümünü görelim:"
   ]
  },
  {
   "cell_type": "code",
   "execution_count": null,
   "id": "mental-wales",
   "metadata": {},
   "outputs": [],
   "source": [
    "data.columns"
   ]
  },
  {
   "cell_type": "code",
   "execution_count": null,
   "id": "harmful-cyprus",
   "metadata": {},
   "outputs": [],
   "source": [
    "# sadece şunları alalım\n",
    "\n",
    "cols = ['wheelbase', 'carlength', 'carwidth', 'carheight', \n",
    "        'curbweight', 'enginesize', 'boreratio', 'stroke',\n",
    "        'compressionratio', 'horsepower', 'peakrpm', 'citympg', 'highwaympg']"
   ]
  },
  {
   "cell_type": "code",
   "execution_count": null,
   "id": "honey-broadway",
   "metadata": {},
   "outputs": [],
   "source": [
    "len(cols)"
   ]
  },
  {
   "cell_type": "code",
   "execution_count": null,
   "id": "molecular-heater",
   "metadata": {},
   "outputs": [],
   "source": [
    "# regresyon doğruları ile ilişkiyi görelim\n",
    "\n",
    "plt.figure(figsize=(20,25))\n",
    "\n",
    "for i in range(len(cols)):\n",
    "    plt.subplot(5,3,i+1)\n",
    "    plt.title(cols[i] + ' - Fiyat')\n",
    "    sns.regplot(x=eval('data' + '.' + cols[i]), y=data.price)\n",
    "    \n",
    "plt.tight_layout()"
   ]
  },
  {
   "cell_type": "markdown",
   "id": "given-concert",
   "metadata": {},
   "source": [
    "Burada nerdeyse tüm değişkenleri önemli. Yani fiyat üzerinde etkisi olabilir.\n",
    "\n",
    "Etkisiz olanlar:\n",
    "* carheight\n",
    "* stroke\n",
    "* compression ratio\n",
    "* peak rpm\n",
    "* highway mpg\n",
    "* city mpg\n",
    "\n",
    "Bunları çıkarabiliriz."
   ]
  },
  {
   "cell_type": "code",
   "execution_count": null,
   "id": "turned-release",
   "metadata": {},
   "outputs": [],
   "source": [
    "data.columns"
   ]
  },
  {
   "cell_type": "code",
   "execution_count": null,
   "id": "everyday-colon",
   "metadata": {},
   "outputs": [],
   "source": [
    "# yeni sütunlarla yeni data\n",
    "\n",
    "data_new = data[[\n",
    "        'car_ID', 'symboling', 'fueltype', 'manufacturer', 'aspiration',\n",
    "        'doornumber', 'carbody', 'drivewheel', 'enginelocation', 'wheelbase',\n",
    "        'carlength', 'carwidth', 'curbweight', 'enginetype', 'cylindernumber',\n",
    "        'enginesize', 'fuelsystem', 'boreratio', 'horsepower', 'price']]"
   ]
  },
  {
   "cell_type": "code",
   "execution_count": null,
   "id": "analyzed-dylan",
   "metadata": {},
   "outputs": [],
   "source": [
    "data_new.head()"
   ]
  },
  {
   "cell_type": "markdown",
   "id": "civic-clinton",
   "metadata": {},
   "source": [
    "Şimdi data_new içindeki tüm sütunlara ikili olarak (pair-plot) bakalım:"
   ]
  },
  {
   "cell_type": "code",
   "execution_count": null,
   "id": "planned-reverse",
   "metadata": {},
   "outputs": [],
   "source": [
    "sns.pairplot(data_new)\n",
    "plt.show()"
   ]
  },
  {
   "cell_type": "markdown",
   "id": "failing-affiliation",
   "metadata": {},
   "source": [
    "#### Feature Engineering"
   ]
  },
  {
   "cell_type": "markdown",
   "id": "associate-chapter",
   "metadata": {},
   "source": [
    "Datayı daha iyi modellemek için yeni özellikler (feature) bulma veya özelliklerden bazılarını eleme işine **Feature Engineering** denir."
   ]
  },
  {
   "cell_type": "markdown",
   "id": "happy-great",
   "metadata": {},
   "source": [
    "**Tork (Torque)**: \n",
    "\n",
    "Tork, motorun dönme kuvvetinin; araçta tekerlekleri itme kuvvetine dönüştürülmesini sağlamaktadır. Yani bir nevi, aracın çekiş gücü ile ilgilidir. \n",
    "\n",
    "Dolayısı ile Tork'u yüksek olan arabaların daha pahalı olması beklenebilir.\n",
    "\n",
    "**Torque = 5252 x HP / RPM**"
   ]
  },
  {
   "cell_type": "code",
   "execution_count": null,
   "id": "anonymous-gilbert",
   "metadata": {},
   "outputs": [],
   "source": [
    "torque = data.horsepower * 5252 / data.peakrpm"
   ]
  },
  {
   "cell_type": "code",
   "execution_count": null,
   "id": "historical-sudan",
   "metadata": {},
   "outputs": [],
   "source": [
    "torque"
   ]
  },
  {
   "cell_type": "code",
   "execution_count": null,
   "id": "recreational-cholesterol",
   "metadata": {},
   "outputs": [],
   "source": [
    "# dataya torque sütunu ekle\n",
    "\n",
    "data.insert(10, 'torque', \n",
    "            pd.Series(data.horsepower * 5252 / data.peakrpm, index=data.index))"
   ]
  },
  {
   "cell_type": "code",
   "execution_count": null,
   "id": "trying-relative",
   "metadata": {},
   "outputs": [],
   "source": [
    "data.torque"
   ]
  },
  {
   "cell_type": "markdown",
   "id": "declared-danish",
   "metadata": {},
   "source": [
    "Torque ile Fiyat arasındaki ilişkiye bakalım:"
   ]
  },
  {
   "cell_type": "code",
   "execution_count": null,
   "id": "absent-expense",
   "metadata": {},
   "outputs": [],
   "source": [
    "plt.title('Torque - Fiyat', fontsize=16)\n",
    "\n",
    "sns.regplot(x=data.torque, y=data.price)\n",
    "\n",
    "plt.show()"
   ]
  },
  {
   "cell_type": "code",
   "execution_count": null,
   "id": "addressed-chicken",
   "metadata": {},
   "outputs": [],
   "source": [
    "# Torque dağılımını görelim\n",
    "\n",
    "plt.title('Torque Dağılımı', fontsize=18)\n",
    "sns.distplot(data.torque)\n",
    "\n",
    "plt.show()"
   ]
  },
  {
   "cell_type": "markdown",
   "id": "close-compiler",
   "metadata": {},
   "source": [
    "**Yakıt Ekonomisi**:"
   ]
  },
  {
   "cell_type": "markdown",
   "id": "complex-judges",
   "metadata": {},
   "source": [
    "Arabanın şehir içinde ve şehir dışında ortalama yakıt tüketimi."
   ]
  },
  {
   "cell_type": "code",
   "execution_count": null,
   "id": "progressive-albert",
   "metadata": {},
   "outputs": [],
   "source": [
    "data['fueleconomy'] = (0.55 * data.citympg) + (0.45 * data.highwaympg)"
   ]
  },
  {
   "cell_type": "code",
   "execution_count": null,
   "id": "thermal-southwest",
   "metadata": {},
   "outputs": [],
   "source": [
    "data.fueleconomy"
   ]
  },
  {
   "cell_type": "markdown",
   "id": "mathematical-missouri",
   "metadata": {},
   "source": [
    "Son olarak model için önemli değişkenleri bırakıp diğerlerini silelim:"
   ]
  },
  {
   "cell_type": "code",
   "execution_count": null,
   "id": "changing-overall",
   "metadata": {},
   "outputs": [],
   "source": [
    "# silinecekleri sil\n",
    "\n",
    "data.drop(columns=['car_ID','manufacturer','doornumber','carheight',\n",
    "                   'compressionratio', 'symboling','stroke','citympg',\n",
    "                   'highwaympg', 'fuelsystem', 'peakrpm'], \n",
    "          axis=1, inplace=True)"
   ]
  },
  {
   "cell_type": "code",
   "execution_count": null,
   "id": "french-looking",
   "metadata": {},
   "outputs": [],
   "source": [
    "data.head()"
   ]
  },
  {
   "cell_type": "markdown",
   "id": "capital-fishing",
   "metadata": {},
   "source": [
    "#### Model Tanımlama"
   ]
  },
  {
   "cell_type": "code",
   "execution_count": null,
   "id": "honest-auditor",
   "metadata": {},
   "outputs": [],
   "source": [
    "# data'yı kopayalalım\n",
    "\n",
    "cars = data.copy()"
   ]
  },
  {
   "cell_type": "markdown",
   "id": "excess-vatican",
   "metadata": {},
   "source": [
    "Kategorik değişkenler için dummy variable'ları alalım:\n",
    "\n",
    "**pd.get_dummies()**"
   ]
  },
  {
   "cell_type": "code",
   "execution_count": null,
   "id": "informational-polls",
   "metadata": {},
   "outputs": [],
   "source": [
    "# kategorik sütunlar\n",
    "\n",
    "dummies_list = ['fueltype', 'aspiration', 'carbody','drivewheel',\n",
    "                'enginelocation', 'enginetype', 'cylindernumber']"
   ]
  },
  {
   "cell_type": "code",
   "execution_count": null,
   "id": "binary-moses",
   "metadata": {},
   "outputs": [],
   "source": [
    "\n",
    "for i in dummies_list:\n",
    "    \n",
    "    temp_df = pd.get_dummies(eval('cars' + '.' + i), drop_first=True)\n",
    "    \n",
    "    cars = pd.concat([cars, temp_df], axis=1)\n",
    "    \n",
    "    cars.drop([i], axis=1, inplace=True)\n",
    "    "
   ]
  },
  {
   "cell_type": "code",
   "execution_count": null,
   "id": "herbal-document",
   "metadata": {},
   "outputs": [],
   "source": [
    "cars.head()"
   ]
  },
  {
   "cell_type": "code",
   "execution_count": null,
   "id": "married-desert",
   "metadata": {},
   "outputs": [],
   "source": [
    "cars.shape"
   ]
  },
  {
   "cell_type": "code",
   "execution_count": null,
   "id": "found-british",
   "metadata": {},
   "outputs": [],
   "source": [
    "# data'daki sütunlar\n",
    "\n",
    "data.columns"
   ]
  },
  {
   "cell_type": "code",
   "execution_count": null,
   "id": "dental-channel",
   "metadata": {},
   "outputs": [],
   "source": [
    "cars.columns"
   ]
  },
  {
   "cell_type": "markdown",
   "id": "norman-turkey",
   "metadata": {},
   "source": [
    "pd.get_dummies(drop_first=True) yaptığımız için verdiğimiz listedeki sütunlar için 1-0 (one-hot encoding) sütunları yarattı. \n",
    "\n",
    "Her bir kategor için bir sütun olarak, sadece birer eksik olarak. (drop_first=True)"
   ]
  },
  {
   "cell_type": "code",
   "execution_count": null,
   "id": "prompt-reminder",
   "metadata": {},
   "outputs": [],
   "source": [
    "# std'yi atmış, sadece turbo adında bir sütun yaratmış\n",
    "# baz değişken -> std\n",
    "\n",
    "data.aspiration.unique()"
   ]
  },
  {
   "cell_type": "code",
   "execution_count": null,
   "id": "specialized-switch",
   "metadata": {},
   "outputs": [],
   "source": [
    "# convertible'ı atmış, diğerleri için sütun yaratmış\n",
    "# baz değişken -> convertible\n",
    "\n",
    "data.carbody.unique()"
   ]
  },
  {
   "cell_type": "code",
   "execution_count": null,
   "id": "bigger-musician",
   "metadata": {},
   "outputs": [],
   "source": [
    "# 4wd'yi atmış, diğerleri için sütun yaratmış \n",
    "# baz değişken -> 4wd\n",
    "\n",
    "data.drivewheel.unique()"
   ]
  },
  {
   "cell_type": "code",
   "execution_count": null,
   "id": "basic-organization",
   "metadata": {},
   "outputs": [],
   "source": [
    "# eight'i atmış diğerlerini almış\n",
    "# baz değişken -> eight\n",
    "\n",
    "data.cylindernumber.unique()"
   ]
  },
  {
   "cell_type": "markdown",
   "id": "random-apparatus",
   "metadata": {},
   "source": [
    "##### Train-Test Split"
   ]
  },
  {
   "cell_type": "code",
   "execution_count": null,
   "id": "published-slovak",
   "metadata": {},
   "outputs": [],
   "source": [
    "from sklearn.model_selection import train_test_split"
   ]
  },
  {
   "cell_type": "code",
   "execution_count": null,
   "id": "suited-saturn",
   "metadata": {},
   "outputs": [],
   "source": [
    "train_data, test_data = train_test_split(cars, train_size=0.7, random_state=42)"
   ]
  },
  {
   "cell_type": "code",
   "execution_count": 4,
   "id": "deadly-forwarding",
   "metadata": {},
   "outputs": [
    {
     "ename": "NameError",
     "evalue": "name 'train_data' is not defined",
     "output_type": "error",
     "traceback": [
      "\u001b[1;31m---------------------------------------------------------------------------\u001b[0m",
      "\u001b[1;31mNameError\u001b[0m                                 Traceback (most recent call last)",
      "Cell \u001b[1;32mIn[4], line 1\u001b[0m\n\u001b[1;32m----> 1\u001b[0m \u001b[43mtrain_data\u001b[49m\u001b[38;5;241m.\u001b[39mhead()\n",
      "\u001b[1;31mNameError\u001b[0m: name 'train_data' is not defined"
     ]
    }
   ],
   "source": [
    "train_data.head()"
   ]
  },
  {
   "cell_type": "code",
   "execution_count": 5,
   "id": "sophisticated-gregory",
   "metadata": {},
   "outputs": [
    {
     "ename": "NameError",
     "evalue": "name 'test_data' is not defined",
     "output_type": "error",
     "traceback": [
      "\u001b[1;31m---------------------------------------------------------------------------\u001b[0m",
      "\u001b[1;31mNameError\u001b[0m                                 Traceback (most recent call last)",
      "Cell \u001b[1;32mIn[5], line 1\u001b[0m\n\u001b[1;32m----> 1\u001b[0m \u001b[43mtest_data\u001b[49m\u001b[38;5;241m.\u001b[39mhead()\n",
      "\u001b[1;31mNameError\u001b[0m: name 'test_data' is not defined"
     ]
    }
   ],
   "source": [
    "test_data.head()"
   ]
  },
  {
   "cell_type": "code",
   "execution_count": 6,
   "id": "copyrighted-criticism",
   "metadata": {},
   "outputs": [
    {
     "ename": "NameError",
     "evalue": "name 'train_data' is not defined",
     "output_type": "error",
     "traceback": [
      "\u001b[1;31m---------------------------------------------------------------------------\u001b[0m",
      "\u001b[1;31mNameError\u001b[0m                                 Traceback (most recent call last)",
      "Cell \u001b[1;32mIn[6], line 1\u001b[0m\n\u001b[1;32m----> 1\u001b[0m \u001b[43mtrain_data\u001b[49m\u001b[38;5;241m.\u001b[39mcolumns\n",
      "\u001b[1;31mNameError\u001b[0m: name 'train_data' is not defined"
     ]
    }
   ],
   "source": [
    "train_data.columns"
   ]
  },
  {
   "cell_type": "markdown",
   "id": "graduate-province",
   "metadata": {},
   "source": [
    "**Scaling**\n",
    "\n",
    "Değişken boyutlarının farklı olması bir sorundur. Bunun için hepsi kendi içinde boyutlandırılır.\n",
    "\n",
    "Min-Max Scaling -> 0 ile 1 arasında yeniden boyutlar:\n",
    "$$X_{scaled} = (X - X_{min}) / (X_{max} - X_{min}) $$\n",
    "\n",
    "burada:\n",
    "\n",
    "$X_{minScaled} = 0$\n",
    "\n",
    "ve\n",
    "\n",
    "$X_{maxScaled} = 1$\n",
    "\n",
    "olur."
   ]
  },
  {
   "cell_type": "code",
   "execution_count": 7,
   "id": "invalid-performance",
   "metadata": {},
   "outputs": [],
   "source": [
    "from sklearn.preprocessing import MinMaxScaler"
   ]
  },
  {
   "cell_type": "code",
   "execution_count": 39,
   "id": "b289ce10",
   "metadata": {},
   "outputs": [
    {
     "ename": "NameError",
     "evalue": "name 'StandardScaler' is not defined",
     "output_type": "error",
     "traceback": [
      "\u001b[1;31m---------------------------------------------------------------------------\u001b[0m",
      "\u001b[1;31mNameError\u001b[0m                                 Traceback (most recent call last)",
      "Cell \u001b[1;32mIn[39], line 1\u001b[0m\n\u001b[1;32m----> 1\u001b[0m scaler \u001b[38;5;241m=\u001b[39m \u001b[43mStandardScaler\u001b[49m()\n",
      "\u001b[1;31mNameError\u001b[0m: name 'StandardScaler' is not defined"
     ]
    }
   ],
   "source": [
    "scaler = StandardScaler()"
   ]
  },
  {
   "cell_type": "code",
   "execution_count": 8,
   "id": "spanish-hunter",
   "metadata": {},
   "outputs": [],
   "source": [
    "scaler = MinMaxScaler()"
   ]
  },
  {
   "cell_type": "code",
   "execution_count": 9,
   "id": "labeled-optics",
   "metadata": {},
   "outputs": [],
   "source": [
    "# numerik kolonları scale edelim\n",
    "# price hariç -> price (y) değişkeni scale edilmez\n",
    "\n",
    "scale_cols = ['wheelbase', 'torque','carlength','carwidth','curbweight',\n",
    "              'enginesize', 'horsepower','fueleconomy','boreratio']"
   ]
  },
  {
   "cell_type": "code",
   "execution_count": 38,
   "id": "handmade-delta",
   "metadata": {},
   "outputs": [
    {
     "ename": "NameError",
     "evalue": "name 'train_data' is not defined",
     "output_type": "error",
     "traceback": [
      "\u001b[1;31m---------------------------------------------------------------------------\u001b[0m",
      "\u001b[1;31mNameError\u001b[0m                                 Traceback (most recent call last)",
      "Cell \u001b[1;32mIn[38], line 1\u001b[0m\n\u001b[1;32m----> 1\u001b[0m train_data[scale_cols] \u001b[38;5;241m=\u001b[39m scaler\u001b[38;5;241m.\u001b[39mfit_transform(\u001b[43mtrain_data\u001b[49m[scale_cols])\n",
      "\u001b[1;31mNameError\u001b[0m: name 'train_data' is not defined"
     ]
    }
   ],
   "source": [
    "train_data[scale_cols] = scaler.fit_transform(train_data[scale_cols])"
   ]
  },
  {
   "cell_type": "code",
   "execution_count": null,
   "id": "aggregate-portland",
   "metadata": {},
   "outputs": [],
   "source": [
    "train_data.head()"
   ]
  },
  {
   "cell_type": "code",
   "execution_count": null,
   "id": "addressed-dietary",
   "metadata": {},
   "outputs": [],
   "source": [
    "y_train = train_data.pop('price')"
   ]
  },
  {
   "cell_type": "code",
   "execution_count": null,
   "id": "nominated-lesson",
   "metadata": {},
   "outputs": [],
   "source": [
    "y_train.head()"
   ]
  },
  {
   "cell_type": "code",
   "execution_count": null,
   "id": "wired-shelf",
   "metadata": {},
   "outputs": [],
   "source": [
    "X_train = train_data"
   ]
  },
  {
   "cell_type": "code",
   "execution_count": null,
   "id": "seventh-wellington",
   "metadata": {},
   "outputs": [],
   "source": [
    "train_data.head()"
   ]
  },
  {
   "cell_type": "markdown",
   "id": "billion-semiconductor",
   "metadata": {},
   "source": [
    "**Çoklu Lineer Regreson için kütüphaneler:**"
   ]
  },
  {
   "cell_type": "code",
   "execution_count": null,
   "id": "promotional-aluminum",
   "metadata": {},
   "outputs": [],
   "source": [
    "from sklearn.feature_selection import RFE\n",
    "from sklearn.linear_model import LinearRegression\n",
    "import statsmodels.api as sm"
   ]
  },
  {
   "cell_type": "code",
   "execution_count": null,
   "id": "attractive-qatar",
   "metadata": {},
   "outputs": [],
   "source": [
    "# lineer regresyon nesnesi alalım\n",
    "\n",
    "lr = LinearRegression()"
   ]
  },
  {
   "cell_type": "code",
   "execution_count": 11,
   "id": "alike-index",
   "metadata": {},
   "outputs": [
    {
     "ename": "NameError",
     "evalue": "name 'lr' is not defined",
     "output_type": "error",
     "traceback": [
      "\u001b[1;31m---------------------------------------------------------------------------\u001b[0m",
      "\u001b[1;31mNameError\u001b[0m                                 Traceback (most recent call last)",
      "Cell \u001b[1;32mIn[11], line 3\u001b[0m\n\u001b[0;32m      1\u001b[0m \u001b[38;5;66;03m# lineer regresyon'u veri ile train (fit) edelim\u001b[39;00m\n\u001b[1;32m----> 3\u001b[0m \u001b[43mlr\u001b[49m\u001b[38;5;241m.\u001b[39mfit(X_train, y_train)\n",
      "\u001b[1;31mNameError\u001b[0m: name 'lr' is not defined"
     ]
    }
   ],
   "source": [
    "# lineer regresyon'u veri ile train (fit) edelim\n",
    "\n",
    "lr.fit(X_train, y_train)"
   ]
  },
  {
   "cell_type": "markdown",
   "id": "secure-destiny",
   "metadata": {},
   "source": [
    "**RFE (Recursive Feature Elimination)**:\n",
    "\n",
    "Her seferinde bir değişken azaltarak (backward elimination) geriye doğru Çoklu Lineer Regresyon çalıştırır.\n",
    "\n",
    "Bu şekilde eleme yaparak parametre olarak verilen `n_features_to_select` adedine kadar gelir.\n",
    "\n",
    "Her elemede en önemsiz olanı eler. (p-değeri en büyük olanı yani)\n",
    "\n",
    "https://scikit-learn.org/stable/modules/generated/sklearn.feature_selection.RFE.html"
   ]
  },
  {
   "cell_type": "code",
   "execution_count": 12,
   "id": "mature-concentration",
   "metadata": {},
   "outputs": [
    {
     "ename": "NameError",
     "evalue": "name 'RFE' is not defined",
     "output_type": "error",
     "traceback": [
      "\u001b[1;31m---------------------------------------------------------------------------\u001b[0m",
      "\u001b[1;31mNameError\u001b[0m                                 Traceback (most recent call last)",
      "Cell \u001b[1;32mIn[12], line 6\u001b[0m\n\u001b[0;32m      1\u001b[0m \u001b[38;5;66;03m# RFE'yi hazırlayalım\u001b[39;00m\n\u001b[0;32m      2\u001b[0m \u001b[38;5;66;03m# RFE(estimator, n_features_to_select)\u001b[39;00m\n\u001b[0;32m      3\u001b[0m \n\u001b[0;32m      4\u001b[0m \u001b[38;5;66;03m# geriye 10 adet değişken bırakacak şekilde RFE tanımlayalım\u001b[39;00m\n\u001b[1;32m----> 6\u001b[0m rfe \u001b[38;5;241m=\u001b[39m \u001b[43mRFE\u001b[49m(lr, \u001b[38;5;241m10\u001b[39m)\n",
      "\u001b[1;31mNameError\u001b[0m: name 'RFE' is not defined"
     ]
    }
   ],
   "source": [
    "# RFE'yi hazırlayalım\n",
    "# RFE(estimator, n_features_to_select)\n",
    "\n",
    "# geriye 10 adet değişken bırakacak şekilde RFE tanımlayalım\n",
    "\n",
    "rfe = RFE(lr, 10)"
   ]
  },
  {
   "cell_type": "code",
   "execution_count": 13,
   "id": "worse-report",
   "metadata": {},
   "outputs": [
    {
     "ename": "NameError",
     "evalue": "name 'rfe' is not defined",
     "output_type": "error",
     "traceback": [
      "\u001b[1;31m---------------------------------------------------------------------------\u001b[0m",
      "\u001b[1;31mNameError\u001b[0m                                 Traceback (most recent call last)",
      "Cell \u001b[1;32mIn[13], line 3\u001b[0m\n\u001b[0;32m      1\u001b[0m \u001b[38;5;66;03m# rfe'yi train edelim\u001b[39;00m\n\u001b[1;32m----> 3\u001b[0m rfe \u001b[38;5;241m=\u001b[39m \u001b[43mrfe\u001b[49m\u001b[38;5;241m.\u001b[39mfit(X_train,y_train)\n",
      "\u001b[1;31mNameError\u001b[0m: name 'rfe' is not defined"
     ]
    }
   ],
   "source": [
    "# rfe'yi train edelim\n",
    "\n",
    "rfe = rfe.fit(X_train,y_train)"
   ]
  },
  {
   "cell_type": "markdown",
   "id": "disciplinary-launch",
   "metadata": {},
   "source": [
    "RFE'nin attribute'ları:\n",
    "\n",
    "**ranking_**: Seçim sırası, en baştaki (rank=1) en yüksek önemde.\n",
    "\n",
    "**support_**: Değişken seçilmiş mi -> True, False."
   ]
  },
  {
   "cell_type": "code",
   "execution_count": 14,
   "id": "conceptual-parallel",
   "metadata": {},
   "outputs": [
    {
     "ename": "NameError",
     "evalue": "name 'rfe' is not defined",
     "output_type": "error",
     "traceback": [
      "\u001b[1;31m---------------------------------------------------------------------------\u001b[0m",
      "\u001b[1;31mNameError\u001b[0m                                 Traceback (most recent call last)",
      "Cell \u001b[1;32mIn[14], line 1\u001b[0m\n\u001b[1;32m----> 1\u001b[0m \u001b[43mrfe\u001b[49m\u001b[38;5;241m.\u001b[39msupport_\n",
      "\u001b[1;31mNameError\u001b[0m: name 'rfe' is not defined"
     ]
    }
   ],
   "source": [
    "rfe.support_"
   ]
  },
  {
   "cell_type": "code",
   "execution_count": 15,
   "id": "indie-chart",
   "metadata": {},
   "outputs": [
    {
     "ename": "NameError",
     "evalue": "name 'rfe' is not defined",
     "output_type": "error",
     "traceback": [
      "\u001b[1;31m---------------------------------------------------------------------------\u001b[0m",
      "\u001b[1;31mNameError\u001b[0m                                 Traceback (most recent call last)",
      "Cell \u001b[1;32mIn[15], line 1\u001b[0m\n\u001b[1;32m----> 1\u001b[0m \u001b[43mrfe\u001b[49m\u001b[38;5;241m.\u001b[39mranking_\n",
      "\u001b[1;31mNameError\u001b[0m: name 'rfe' is not defined"
     ]
    }
   ],
   "source": [
    "rfe.ranking_"
   ]
  },
  {
   "cell_type": "code",
   "execution_count": 16,
   "id": "local-capture",
   "metadata": {},
   "outputs": [
    {
     "ename": "NameError",
     "evalue": "name 'X_train' is not defined",
     "output_type": "error",
     "traceback": [
      "\u001b[1;31m---------------------------------------------------------------------------\u001b[0m",
      "\u001b[1;31mNameError\u001b[0m                                 Traceback (most recent call last)",
      "Cell \u001b[1;32mIn[16], line 1\u001b[0m\n\u001b[1;32m----> 1\u001b[0m \u001b[38;5;28mlist\u001b[39m(\u001b[38;5;28mzip\u001b[39m(\u001b[43mX_train\u001b[49m\u001b[38;5;241m.\u001b[39mcolumns,rfe\u001b[38;5;241m.\u001b[39msupport_,rfe\u001b[38;5;241m.\u001b[39mranking_))\n",
      "\u001b[1;31mNameError\u001b[0m: name 'X_train' is not defined"
     ]
    }
   ],
   "source": [
    "list(zip(X_train.columns,rfe.support_,rfe.ranking_))"
   ]
  },
  {
   "cell_type": "code",
   "execution_count": 17,
   "id": "south-brisbane",
   "metadata": {},
   "outputs": [
    {
     "ename": "NameError",
     "evalue": "name 'X_train' is not defined",
     "output_type": "error",
     "traceback": [
      "\u001b[1;31m---------------------------------------------------------------------------\u001b[0m",
      "\u001b[1;31mNameError\u001b[0m                                 Traceback (most recent call last)",
      "Cell \u001b[1;32mIn[17], line 3\u001b[0m\n\u001b[0;32m      1\u001b[0m \u001b[38;5;66;03m# sadece seçilmiş sütunlar (değişkenler)\u001b[39;00m\n\u001b[1;32m----> 3\u001b[0m \u001b[43mX_train\u001b[49m\u001b[38;5;241m.\u001b[39mcolumns[rfe\u001b[38;5;241m.\u001b[39msupport_]\n",
      "\u001b[1;31mNameError\u001b[0m: name 'X_train' is not defined"
     ]
    }
   ],
   "source": [
    "# sadece seçilmiş sütunlar (değişkenler)\n",
    "\n",
    "X_train.columns[rfe.support_]"
   ]
  },
  {
   "cell_type": "code",
   "execution_count": 18,
   "id": "concerned-stanford",
   "metadata": {},
   "outputs": [
    {
     "ename": "NameError",
     "evalue": "name 'X_train' is not defined",
     "output_type": "error",
     "traceback": [
      "\u001b[1;31m---------------------------------------------------------------------------\u001b[0m",
      "\u001b[1;31mNameError\u001b[0m                                 Traceback (most recent call last)",
      "Cell \u001b[1;32mIn[18], line 3\u001b[0m\n\u001b[0;32m      1\u001b[0m \u001b[38;5;66;03m# Dolayısı ile artık önemli olan sütunları biliyoruz\u001b[39;00m\n\u001b[1;32m----> 3\u001b[0m X_train_rfe \u001b[38;5;241m=\u001b[39m \u001b[43mX_train\u001b[49m[X_train\u001b[38;5;241m.\u001b[39mcolumns[rfe\u001b[38;5;241m.\u001b[39msupport_]]\n",
      "\u001b[1;31mNameError\u001b[0m: name 'X_train' is not defined"
     ]
    }
   ],
   "source": [
    "# Dolayısı ile artık önemli olan sütunları biliyoruz\n",
    "\n",
    "X_train_rfe = X_train[X_train.columns[rfe.support_]]"
   ]
  },
  {
   "cell_type": "code",
   "execution_count": 19,
   "id": "secret-atlantic",
   "metadata": {},
   "outputs": [
    {
     "ename": "NameError",
     "evalue": "name 'X_train_rfe' is not defined",
     "output_type": "error",
     "traceback": [
      "\u001b[1;31m---------------------------------------------------------------------------\u001b[0m",
      "\u001b[1;31mNameError\u001b[0m                                 Traceback (most recent call last)",
      "Cell \u001b[1;32mIn[19], line 1\u001b[0m\n\u001b[1;32m----> 1\u001b[0m \u001b[43mX_train_rfe\u001b[49m\n",
      "\u001b[1;31mNameError\u001b[0m: name 'X_train_rfe' is not defined"
     ]
    }
   ],
   "source": [
    "X_train_rfe"
   ]
  },
  {
   "cell_type": "markdown",
   "id": "previous-speaker",
   "metadata": {},
   "source": [
    "#### OLS Analizi:"
   ]
  },
  {
   "cell_type": "code",
   "execution_count": 20,
   "id": "hundred-prescription",
   "metadata": {},
   "outputs": [
    {
     "ename": "NameError",
     "evalue": "name 'X_train_rfe' is not defined",
     "output_type": "error",
     "traceback": [
      "\u001b[1;31m---------------------------------------------------------------------------\u001b[0m",
      "\u001b[1;31mNameError\u001b[0m                                 Traceback (most recent call last)",
      "Cell \u001b[1;32mIn[20], line 3\u001b[0m\n\u001b[0;32m      1\u001b[0m \u001b[38;5;66;03m# OLS için kopyalayalım\u001b[39;00m\n\u001b[1;32m----> 3\u001b[0m X_train_rfemodel \u001b[38;5;241m=\u001b[39m \u001b[43mX_train_rfe\u001b[49m\u001b[38;5;241m.\u001b[39mcopy()\n",
      "\u001b[1;31mNameError\u001b[0m: name 'X_train_rfe' is not defined"
     ]
    }
   ],
   "source": [
    "# OLS için kopyalayalım\n",
    "\n",
    "X_train_rfemodel = X_train_rfe.copy()"
   ]
  },
  {
   "cell_type": "code",
   "execution_count": 21,
   "id": "comparable-brisbane",
   "metadata": {},
   "outputs": [
    {
     "ename": "NameError",
     "evalue": "name 'sm' is not defined",
     "output_type": "error",
     "traceback": [
      "\u001b[1;31m---------------------------------------------------------------------------\u001b[0m",
      "\u001b[1;31mNameError\u001b[0m                                 Traceback (most recent call last)",
      "Cell \u001b[1;32mIn[21], line 3\u001b[0m\n\u001b[0;32m      1\u001b[0m \u001b[38;5;66;03m# statsmodels için add_constant -> beta_0 için 1'lerden oluşan sütun\u001b[39;00m\n\u001b[1;32m----> 3\u001b[0m X_train_rfemodel \u001b[38;5;241m=\u001b[39m \u001b[43msm\u001b[49m\u001b[38;5;241m.\u001b[39madd_constant(X_train_rfemodel)\n",
      "\u001b[1;31mNameError\u001b[0m: name 'sm' is not defined"
     ]
    }
   ],
   "source": [
    "# statsmodels için add_constant -> beta_0 için 1'lerden oluşan sütun\n",
    "\n",
    "X_train_rfemodel = sm.add_constant(X_train_rfemodel)"
   ]
  },
  {
   "cell_type": "code",
   "execution_count": 22,
   "id": "consecutive-expression",
   "metadata": {},
   "outputs": [
    {
     "ename": "NameError",
     "evalue": "name 'sm' is not defined",
     "output_type": "error",
     "traceback": [
      "\u001b[1;31m---------------------------------------------------------------------------\u001b[0m",
      "\u001b[1;31mNameError\u001b[0m                                 Traceback (most recent call last)",
      "Cell \u001b[1;32mIn[22], line 3\u001b[0m\n\u001b[0;32m      1\u001b[0m \u001b[38;5;66;03m# OLS çalıştıralım\u001b[39;00m\n\u001b[1;32m----> 3\u001b[0m lr \u001b[38;5;241m=\u001b[39m \u001b[43msm\u001b[49m\u001b[38;5;241m.\u001b[39mOLS(y_train, X_train_rfemodel)\u001b[38;5;241m.\u001b[39mfit()\n",
      "\u001b[1;31mNameError\u001b[0m: name 'sm' is not defined"
     ]
    }
   ],
   "source": [
    "# OLS çalıştıralım\n",
    "\n",
    "lr = sm.OLS(y_train, X_train_rfemodel).fit()"
   ]
  },
  {
   "cell_type": "code",
   "execution_count": 23,
   "id": "manufactured-package",
   "metadata": {},
   "outputs": [
    {
     "ename": "NameError",
     "evalue": "name 'lr' is not defined",
     "output_type": "error",
     "traceback": [
      "\u001b[1;31m---------------------------------------------------------------------------\u001b[0m",
      "\u001b[1;31mNameError\u001b[0m                                 Traceback (most recent call last)",
      "Cell \u001b[1;32mIn[23], line 3\u001b[0m\n\u001b[0;32m      1\u001b[0m \u001b[38;5;66;03m# özeti görelim\u001b[39;00m\n\u001b[1;32m----> 3\u001b[0m \u001b[38;5;28mprint\u001b[39m(\u001b[43mlr\u001b[49m\u001b[38;5;241m.\u001b[39msummary())\n",
      "\u001b[1;31mNameError\u001b[0m: name 'lr' is not defined"
     ]
    }
   ],
   "source": [
    "# özeti görelim\n",
    "\n",
    "print(lr.summary())"
   ]
  },
  {
   "cell_type": "markdown",
   "id": "engaged-memphis",
   "metadata": {},
   "source": [
    "Burada ilk gördüğümüz `two` isimli değişkenin p-değerinin 0.05'ten büyük olduğu.\n",
    "\n",
    "Dolayısı ile önemsizdir, çıkarabiliriz onu."
   ]
  },
  {
   "cell_type": "code",
   "execution_count": 24,
   "id": "handmade-sherman",
   "metadata": {},
   "outputs": [
    {
     "ename": "NameError",
     "evalue": "name 'X_train_rfemodel' is not defined",
     "output_type": "error",
     "traceback": [
      "\u001b[1;31m---------------------------------------------------------------------------\u001b[0m",
      "\u001b[1;31mNameError\u001b[0m                                 Traceback (most recent call last)",
      "Cell \u001b[1;32mIn[24], line 1\u001b[0m\n\u001b[1;32m----> 1\u001b[0m X_train_rfemodel \u001b[38;5;241m=\u001b[39m \u001b[43mX_train_rfemodel\u001b[49m\u001b[38;5;241m.\u001b[39mdrop([\u001b[38;5;124m'\u001b[39m\u001b[38;5;124mtwo\u001b[39m\u001b[38;5;124m'\u001b[39m],axis\u001b[38;5;241m=\u001b[39m\u001b[38;5;241m1\u001b[39m)\n",
      "\u001b[1;31mNameError\u001b[0m: name 'X_train_rfemodel' is not defined"
     ]
    }
   ],
   "source": [
    "X_train_rfemodel = X_train_rfemodel.drop(['two'],axis=1)"
   ]
  },
  {
   "cell_type": "markdown",
   "id": "federal-roller",
   "metadata": {},
   "source": [
    "Tekrar bir OLS çalıştıracağız.\n",
    "\n",
    "Bunu bir fonksiyon içinde yapalım:"
   ]
  },
  {
   "cell_type": "code",
   "execution_count": 25,
   "id": "original-award",
   "metadata": {},
   "outputs": [],
   "source": [
    "\n",
    "def train_ols(X,y):\n",
    "    X = sm.add_constant(X)\n",
    "    lr = sm.OLS(y,X).fit()\n",
    "    print(lr.summary())\n",
    "    "
   ]
  },
  {
   "cell_type": "code",
   "execution_count": 26,
   "id": "irish-complement",
   "metadata": {},
   "outputs": [
    {
     "ename": "NameError",
     "evalue": "name 'X_train_rfemodel' is not defined",
     "output_type": "error",
     "traceback": [
      "\u001b[1;31m---------------------------------------------------------------------------\u001b[0m",
      "\u001b[1;31mNameError\u001b[0m                                 Traceback (most recent call last)",
      "Cell \u001b[1;32mIn[26], line 3\u001b[0m\n\u001b[0;32m      1\u001b[0m \u001b[38;5;66;03m# şimdi çağıralım\u001b[39;00m\n\u001b[1;32m----> 3\u001b[0m train_ols(\u001b[43mX_train_rfemodel\u001b[49m, y_train)\n",
      "\u001b[1;31mNameError\u001b[0m: name 'X_train_rfemodel' is not defined"
     ]
    }
   ],
   "source": [
    "# şimdi çağıralım\n",
    "\n",
    "train_ols(X_train_rfemodel, y_train)"
   ]
  },
  {
   "cell_type": "markdown",
   "id": "indonesian-nurse",
   "metadata": {},
   "source": [
    "Şimdi de `dohcv` değişkeni önemsiz.\n",
    "\n",
    "Onu eleyip tekrar OLS çalıştıralım:"
   ]
  },
  {
   "cell_type": "code",
   "execution_count": 27,
   "id": "understanding-admission",
   "metadata": {},
   "outputs": [
    {
     "ename": "NameError",
     "evalue": "name 'X_train_rfemodel' is not defined",
     "output_type": "error",
     "traceback": [
      "\u001b[1;31m---------------------------------------------------------------------------\u001b[0m",
      "\u001b[1;31mNameError\u001b[0m                                 Traceback (most recent call last)",
      "Cell \u001b[1;32mIn[27], line 1\u001b[0m\n\u001b[1;32m----> 1\u001b[0m X_train_rfemodel \u001b[38;5;241m=\u001b[39m \u001b[43mX_train_rfemodel\u001b[49m\u001b[38;5;241m.\u001b[39mdrop([\u001b[38;5;124m'\u001b[39m\u001b[38;5;124mdohcv\u001b[39m\u001b[38;5;124m'\u001b[39m],axis\u001b[38;5;241m=\u001b[39m\u001b[38;5;241m1\u001b[39m)\n\u001b[0;32m      2\u001b[0m train_ols(X_train_rfemodel, y_train)\n",
      "\u001b[1;31mNameError\u001b[0m: name 'X_train_rfemodel' is not defined"
     ]
    }
   ],
   "source": [
    "X_train_rfemodel = X_train_rfemodel.drop(['dohcv'],axis=1)\n",
    "train_ols(X_train_rfemodel, y_train)"
   ]
  },
  {
   "cell_type": "markdown",
   "id": "light-minister",
   "metadata": {},
   "source": [
    "Şimdi de `five` değişkeni önemsiz.\n",
    "\n",
    "Onu eleyip tekrar OLS çalıştıralım:"
   ]
  },
  {
   "cell_type": "code",
   "execution_count": 28,
   "id": "weird-pattern",
   "metadata": {},
   "outputs": [
    {
     "ename": "NameError",
     "evalue": "name 'X_train_rfemodel' is not defined",
     "output_type": "error",
     "traceback": [
      "\u001b[1;31m---------------------------------------------------------------------------\u001b[0m",
      "\u001b[1;31mNameError\u001b[0m                                 Traceback (most recent call last)",
      "Cell \u001b[1;32mIn[28], line 1\u001b[0m\n\u001b[1;32m----> 1\u001b[0m X_train_rfemodel \u001b[38;5;241m=\u001b[39m \u001b[43mX_train_rfemodel\u001b[49m\u001b[38;5;241m.\u001b[39mdrop([\u001b[38;5;124m'\u001b[39m\u001b[38;5;124mfive\u001b[39m\u001b[38;5;124m'\u001b[39m],axis\u001b[38;5;241m=\u001b[39m\u001b[38;5;241m1\u001b[39m)\n\u001b[0;32m      2\u001b[0m train_ols(X_train_rfemodel, y_train)\n",
      "\u001b[1;31mNameError\u001b[0m: name 'X_train_rfemodel' is not defined"
     ]
    }
   ],
   "source": [
    "X_train_rfemodel = X_train_rfemodel.drop(['five'],axis=1)\n",
    "train_ols(X_train_rfemodel, y_train)"
   ]
  },
  {
   "cell_type": "markdown",
   "id": "naked-render",
   "metadata": {},
   "source": [
    "Artık geriye kalan değişkenlerin hepsi de önemli.\n",
    "\n",
    "Burada durabiliriz."
   ]
  },
  {
   "cell_type": "markdown",
   "id": "exciting-appointment",
   "metadata": {},
   "source": [
    "#### Katsayıların Önem Sırası"
   ]
  },
  {
   "cell_type": "code",
   "execution_count": 29,
   "id": "laden-correction",
   "metadata": {},
   "outputs": [
    {
     "ename": "NameError",
     "evalue": "name 'X_train' is not defined",
     "output_type": "error",
     "traceback": [
      "\u001b[1;31m---------------------------------------------------------------------------\u001b[0m",
      "\u001b[1;31mNameError\u001b[0m                                 Traceback (most recent call last)",
      "Cell \u001b[1;32mIn[29], line 1\u001b[0m\n\u001b[1;32m----> 1\u001b[0m \u001b[43mX_train\u001b[49m\u001b[38;5;241m.\u001b[39mcolumns\n",
      "\u001b[1;31mNameError\u001b[0m: name 'X_train' is not defined"
     ]
    }
   ],
   "source": [
    "X_train.columns"
   ]
  },
  {
   "cell_type": "code",
   "execution_count": 30,
   "id": "lined-metropolitan",
   "metadata": {},
   "outputs": [
    {
     "ename": "NameError",
     "evalue": "name 'X_train' is not defined",
     "output_type": "error",
     "traceback": [
      "\u001b[1;31m---------------------------------------------------------------------------\u001b[0m",
      "\u001b[1;31mNameError\u001b[0m                                 Traceback (most recent call last)",
      "Cell \u001b[1;32mIn[30], line 1\u001b[0m\n\u001b[1;32m----> 1\u001b[0m X_train_final \u001b[38;5;241m=\u001b[39m \u001b[43mX_train\u001b[49m[[\u001b[38;5;124m'\u001b[39m\u001b[38;5;124mcurbweight\u001b[39m\u001b[38;5;124m'\u001b[39m, \u001b[38;5;124m'\u001b[39m\u001b[38;5;124menginesize\u001b[39m\u001b[38;5;124m'\u001b[39m, \u001b[38;5;124m'\u001b[39m\u001b[38;5;124mhorsepower\u001b[39m\u001b[38;5;124m'\u001b[39m, \u001b[38;5;124m'\u001b[39m\u001b[38;5;124mrear\u001b[39m\u001b[38;5;124m'\u001b[39m, \u001b[38;5;124m'\u001b[39m\u001b[38;5;124mfour\u001b[39m\u001b[38;5;124m'\u001b[39m,\n\u001b[0;32m      2\u001b[0m        \u001b[38;5;124m'\u001b[39m\u001b[38;5;124msix\u001b[39m\u001b[38;5;124m'\u001b[39m, \u001b[38;5;124m'\u001b[39m\u001b[38;5;124mtwelve\u001b[39m\u001b[38;5;124m'\u001b[39m]]\n",
      "\u001b[1;31mNameError\u001b[0m: name 'X_train' is not defined"
     ]
    }
   ],
   "source": [
    "X_train_final = X_train[['curbweight', 'enginesize', 'horsepower', 'rear', 'four',\n",
    "       'six', 'twelve']]"
   ]
  },
  {
   "cell_type": "code",
   "execution_count": 31,
   "id": "patient-native",
   "metadata": {},
   "outputs": [
    {
     "ename": "NameError",
     "evalue": "name 'X_train_final' is not defined",
     "output_type": "error",
     "traceback": [
      "\u001b[1;31m---------------------------------------------------------------------------\u001b[0m",
      "\u001b[1;31mNameError\u001b[0m                                 Traceback (most recent call last)",
      "Cell \u001b[1;32mIn[31], line 1\u001b[0m\n\u001b[1;32m----> 1\u001b[0m \u001b[43mX_train_final\u001b[49m\u001b[38;5;241m.\u001b[39mcolumns\n",
      "\u001b[1;31mNameError\u001b[0m: name 'X_train_final' is not defined"
     ]
    }
   ],
   "source": [
    "X_train_final.columns"
   ]
  },
  {
   "cell_type": "code",
   "execution_count": 32,
   "id": "respected-concentration",
   "metadata": {},
   "outputs": [
    {
     "ename": "NameError",
     "evalue": "name 'X_train_final' is not defined",
     "output_type": "error",
     "traceback": [
      "\u001b[1;31m---------------------------------------------------------------------------\u001b[0m",
      "\u001b[1;31mNameError\u001b[0m                                 Traceback (most recent call last)",
      "Cell \u001b[1;32mIn[32], line 1\u001b[0m\n\u001b[1;32m----> 1\u001b[0m \u001b[43mX_train_final\u001b[49m\u001b[38;5;241m.\u001b[39mhead()\n",
      "\u001b[1;31mNameError\u001b[0m: name 'X_train_final' is not defined"
     ]
    }
   ],
   "source": [
    "X_train_final.head()"
   ]
  },
  {
   "cell_type": "code",
   "execution_count": 33,
   "id": "revised-citizenship",
   "metadata": {},
   "outputs": [
    {
     "ename": "NameError",
     "evalue": "name 'LinearRegression' is not defined",
     "output_type": "error",
     "traceback": [
      "\u001b[1;31m---------------------------------------------------------------------------\u001b[0m",
      "\u001b[1;31mNameError\u001b[0m                                 Traceback (most recent call last)",
      "Cell \u001b[1;32mIn[33], line 1\u001b[0m\n\u001b[1;32m----> 1\u001b[0m lr_final \u001b[38;5;241m=\u001b[39m \u001b[43mLinearRegression\u001b[49m()\n\u001b[0;32m      2\u001b[0m lr_final\u001b[38;5;241m.\u001b[39mfit(X_train_final, y_train)\n",
      "\u001b[1;31mNameError\u001b[0m: name 'LinearRegression' is not defined"
     ]
    }
   ],
   "source": [
    "lr_final = LinearRegression()\n",
    "lr_final.fit(X_train_final, y_train)"
   ]
  },
  {
   "cell_type": "code",
   "execution_count": 34,
   "id": "induced-barcelona",
   "metadata": {},
   "outputs": [
    {
     "ename": "NameError",
     "evalue": "name 'lr_final' is not defined",
     "output_type": "error",
     "traceback": [
      "\u001b[1;31m---------------------------------------------------------------------------\u001b[0m",
      "\u001b[1;31mNameError\u001b[0m                                 Traceback (most recent call last)",
      "Cell \u001b[1;32mIn[34], line 1\u001b[0m\n\u001b[1;32m----> 1\u001b[0m \u001b[43mlr_final\u001b[49m\u001b[38;5;241m.\u001b[39mcoef_\n",
      "\u001b[1;31mNameError\u001b[0m: name 'lr_final' is not defined"
     ]
    }
   ],
   "source": [
    "lr_final.coef_"
   ]
  },
  {
   "cell_type": "code",
   "execution_count": 35,
   "id": "soviet-queue",
   "metadata": {},
   "outputs": [
    {
     "ename": "NameError",
     "evalue": "name 'lr_final' is not defined",
     "output_type": "error",
     "traceback": [
      "\u001b[1;31m---------------------------------------------------------------------------\u001b[0m",
      "\u001b[1;31mNameError\u001b[0m                                 Traceback (most recent call last)",
      "Cell \u001b[1;32mIn[35], line 1\u001b[0m\n\u001b[1;32m----> 1\u001b[0m katsayilar \u001b[38;5;241m=\u001b[39m pd\u001b[38;5;241m.\u001b[39mDataFrame(\u001b[43mlr_final\u001b[49m\u001b[38;5;241m.\u001b[39mcoef_, index \u001b[38;5;241m=\u001b[39m [\u001b[38;5;124m'\u001b[39m\u001b[38;5;124mcurbweight\u001b[39m\u001b[38;5;124m'\u001b[39m, \u001b[38;5;124m'\u001b[39m\u001b[38;5;124menginesize\u001b[39m\u001b[38;5;124m'\u001b[39m, \u001b[38;5;124m'\u001b[39m\u001b[38;5;124mhorsepower\u001b[39m\u001b[38;5;124m'\u001b[39m, \u001b[38;5;124m'\u001b[39m\u001b[38;5;124mrear\u001b[39m\u001b[38;5;124m'\u001b[39m, \u001b[38;5;124m'\u001b[39m\u001b[38;5;124mfour\u001b[39m\u001b[38;5;124m'\u001b[39m,\n\u001b[0;32m      2\u001b[0m        \u001b[38;5;124m'\u001b[39m\u001b[38;5;124msix\u001b[39m\u001b[38;5;124m'\u001b[39m, \u001b[38;5;124m'\u001b[39m\u001b[38;5;124mtwelve\u001b[39m\u001b[38;5;124m'\u001b[39m], columns\u001b[38;5;241m=\u001b[39m[\u001b[38;5;124m'\u001b[39m\u001b[38;5;124mKatsayı\u001b[39m\u001b[38;5;124m'\u001b[39m])\n\u001b[0;32m      4\u001b[0m katsayilar\u001b[38;5;241m.\u001b[39msort_values(by\u001b[38;5;241m=\u001b[39m[\u001b[38;5;124m'\u001b[39m\u001b[38;5;124mKatsayı\u001b[39m\u001b[38;5;124m'\u001b[39m], ascending\u001b[38;5;241m=\u001b[39m\u001b[38;5;28;01mFalse\u001b[39;00m)\n",
      "\u001b[1;31mNameError\u001b[0m: name 'lr_final' is not defined"
     ]
    }
   ],
   "source": [
    "katsayilar = pd.DataFrame(lr_final.coef_, index = ['curbweight', 'enginesize', 'horsepower', 'rear', 'four',\n",
    "       'six', 'twelve'], columns=['Katsayı'])\n",
    "\n",
    "katsayilar.sort_values(by=['Katsayı'], ascending=False)"
   ]
  },
  {
   "cell_type": "markdown",
   "id": "wrong-resource",
   "metadata": {},
   "source": [
    "Görüldüğü gibi en önemli değişkenler sırasıyla:\n",
    "\n",
    "* enginesize\n",
    "* rear\n",
    "* curbweight\n",
    "* horsepower\n",
    "* four\n",
    "* six\n",
    "* twelve"
   ]
  },
  {
   "cell_type": "markdown",
   "id": "organic-butler",
   "metadata": {},
   "source": [
    "**Son Analizler:**"
   ]
  },
  {
   "cell_type": "markdown",
   "id": "sized-burner",
   "metadata": {},
   "source": [
    "**1- Fiyatı en çok artıran değişken `enginesize`.**"
   ]
  },
  {
   "cell_type": "code",
   "execution_count": 36,
   "id": "robust-cement",
   "metadata": {},
   "outputs": [
    {
     "ename": "NameError",
     "evalue": "name 'data' is not defined",
     "output_type": "error",
     "traceback": [
      "\u001b[1;31m---------------------------------------------------------------------------\u001b[0m",
      "\u001b[1;31mNameError\u001b[0m                                 Traceback (most recent call last)",
      "Cell \u001b[1;32mIn[36], line 2\u001b[0m\n\u001b[0;32m      1\u001b[0m plt\u001b[38;5;241m.\u001b[39mtitle(\u001b[38;5;124m'\u001b[39m\u001b[38;5;124mEngine Size\u001b[39m\u001b[38;5;124m'\u001b[39m)\n\u001b[1;32m----> 2\u001b[0m sns\u001b[38;5;241m.\u001b[39mregplot(x\u001b[38;5;241m=\u001b[39m\u001b[43mdata\u001b[49m\u001b[38;5;241m.\u001b[39menginesize, y\u001b[38;5;241m=\u001b[39mdata\u001b[38;5;241m.\u001b[39mprice)\n\u001b[0;32m      3\u001b[0m plt\u001b[38;5;241m.\u001b[39mshow()\n",
      "\u001b[1;31mNameError\u001b[0m: name 'data' is not defined"
     ]
    },
    {
     "data": {
      "image/png": "[encoded data removed]",
      "text/plain": [
       "<Figure size 640x480 with 1 Axes>"
      ]
     },
     "metadata": {},
     "output_type": "display_data"
    }
   ],
   "source": [
    "plt.title('Engine Size')\n",
    "sns.regplot(x=data.enginesize, y=data.price)\n",
    "plt.show()"
   ]
  },
  {
   "cell_type": "markdown",
   "id": "colonial-schedule",
   "metadata": {},
   "source": [
    "**2- `rear` değişkeni enginelocation'dan geldi.**\n",
    "\n",
    "enginelocation -> ['front', 'rear']\n",
    "\n",
    "Buna göre motorun arkada olması fiyatı artırıyor."
   ]
  },
  {
   "cell_type": "code",
   "execution_count": null,
   "id": "killing-holly",
   "metadata": {},
   "outputs": [],
   "source": [
    "plt.title('Engine Location')\n",
    "sns.countplot(data.enginelocation)\n",
    "sns.boxplot(x=data.enginelocation, y=data.price)\n",
    "plt.show()"
   ]
  },
  {
   "cell_type": "markdown",
   "id": "broken-thumb",
   "metadata": {},
   "source": [
    "**3- `curbweight` yani aracın ağırlığı fiyatı artırıyor.**"
   ]
  },
  {
   "cell_type": "code",
   "execution_count": null,
   "id": "surrounded-postage",
   "metadata": {},
   "outputs": [],
   "source": [
    "plt.title('Curbweight')\n",
    "sns.regplot(x=data.curbweight, y=data.price)\n",
    "plt.show()"
   ]
  },
  {
   "cell_type": "markdown",
   "id": "outer-chosen",
   "metadata": {},
   "source": [
    "**4- `horsepower` yani beygir gücü fiyatı artırıyor.**"
   ]
  },
  {
   "cell_type": "code",
   "execution_count": null,
   "id": "satisfied-extension",
   "metadata": {},
   "outputs": [],
   "source": [
    "plt.title('Horsepower')\n",
    "sns.regplot(x=data.horsepower, y=data.price)\n",
    "plt.show()"
   ]
  },
  {
   "cell_type": "markdown",
   "id": "intellectual-pepper",
   "metadata": {},
   "source": [
    "**5- `four - six - twelve` değişkenleri `cylindernumber` dan geliyor.**\n",
    "\n",
    "cylindernumber -> ['four', 'six', 'five', 'three', 'twelve', 'two', 'eight']\n",
    "\n",
    "baz değişken -> eight"
   ]
  },
  {
   "cell_type": "markdown",
   "id": "elder-memorabilia",
   "metadata": {},
   "source": [
    "Şu şekilde yorumlarız (baz değişken üzerinden):\n",
    "* eight'i seçmeyip four'u seçersen: fiyattaki değişim -> -5822.569199\n",
    "    \n",
    "* eight'i seçmeyip six'u seçersen: fiyattaki değişim -> -5865.064165\n",
    "    \n",
    "* eight'i seçmeyip twelve'u seçersen: fiyattaki değişim -> -9547.252789"
   ]
  },
  {
   "cell_type": "code",
   "execution_count": 37,
   "id": "healthy-transition",
   "metadata": {},
   "outputs": [
    {
     "ename": "NameError",
     "evalue": "name 'data' is not defined",
     "output_type": "error",
     "traceback": [
      "\u001b[1;31m---------------------------------------------------------------------------\u001b[0m",
      "\u001b[1;31mNameError\u001b[0m                                 Traceback (most recent call last)",
      "Cell \u001b[1;32mIn[37], line 2\u001b[0m\n\u001b[0;32m      1\u001b[0m plt\u001b[38;5;241m.\u001b[39mtitle(\u001b[38;5;124m'\u001b[39m\u001b[38;5;124mCylinder Number\u001b[39m\u001b[38;5;124m'\u001b[39m)\n\u001b[1;32m----> 2\u001b[0m sns\u001b[38;5;241m.\u001b[39mcountplot(\u001b[43mdata\u001b[49m\u001b[38;5;241m.\u001b[39mcylindernumber)\n\u001b[0;32m      3\u001b[0m sns\u001b[38;5;241m.\u001b[39mboxplot(x\u001b[38;5;241m=\u001b[39mdata\u001b[38;5;241m.\u001b[39mcylindernumber, y\u001b[38;5;241m=\u001b[39mdata\u001b[38;5;241m.\u001b[39mprice)\n\u001b[0;32m      4\u001b[0m plt\u001b[38;5;241m.\u001b[39mshow()\n",
      "\u001b[1;31mNameError\u001b[0m: name 'data' is not defined"
     ]
    },
    {
     "data": {
      "image/png": "[encoded data removed]",
      "text/plain": [
       "<Figure size 640x480 with 1 Axes>"
      ]
     },
     "metadata": {},
     "output_type": "display_data"
    }
   ],
   "source": [
    "plt.title('Cylinder Number')\n",
    "sns.countplot(data.cylindernumber)\n",
    "sns.boxplot(x=data.cylindernumber, y=data.price)\n",
    "plt.show()\n"
   ]
  }
 ],
 "metadata": {
  "hide_input": false,
  "kernelspec": {
   "display_name": "Python 3 (ipykernel)",
   "language": "python",
   "name": "python3"
  },
  "language_info": {
   "codemirror_mode": {
    "name": "ipython",
    "version": 3
   },
   "file_extension": ".py",
   "mimetype": "text/x-python",
   "name": "python",
   "nbconvert_exporter": "python",
   "pygments_lexer": "ipython3",
   "version": "3.10.9"
  },
  "nbTranslate": {
   "displayLangs": [
    "*"
   ],
   "hotkey": "alt-t",
   "langInMainMenu": true,
   "sourceLang": "en",
   "targetLang": "fr",
   "useGoogleTranslate": true
  },
  "toc": {
   "base_numbering": 1,
   "nav_menu": {},
   "number_sections": true,
   "sideBar": true,
   "skip_h1_title": false,
   "title_cell": "Table of Contents",
   "title_sidebar": "Contents",
   "toc_cell": false,
   "toc_position": {},
   "toc_section_display": true,
   "toc_window_display": false
  },
  "varInspector": {
   "cols": {
    "lenName": 16,
    "lenType": 16,
    "lenVar": 40
   },
   "kernels_config": {
    "python": {
     "delete_cmd_postfix": "",
     "delete_cmd_prefix": "del ",
     "library": "var_list.py",
     "varRefreshCmd": "print(var_dic_list())"
    },
    "r": {
     "delete_cmd_postfix": ") ",
     "delete_cmd_prefix": "rm(",
     "library": "var_list.r",
     "varRefreshCmd": "cat(var_dic_list()) "
    }
   },
   "types_to_exclude": [
    "module",
    "function",
    "builtin_function_or_method",
    "instance",
    "_Feature"
   ],
   "window_display": false
  }
 },
 "nbformat": 4,
 "nbformat_minor": 5
}
